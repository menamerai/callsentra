{
 "cells": [
  {
   "cell_type": "code",
   "execution_count": 15,
   "metadata": {},
   "outputs": [],
   "source": [
    "import os\n",
    "from langchain_community.llms import HuggingFaceEndpoint\n",
    "from langchain.chains import LLMChain\n",
    "from langchain.prompts import PromptTemplate\n",
    "\n",
    "os.environ[\"HUGGINGFACEHUB_API_TOKEN\"] = os.environ.get(\"HF_TOKEN\")\n"
   ]
  },
  {
   "cell_type": "code",
   "execution_count": 16,
   "metadata": {},
   "outputs": [
    {
     "name": "stderr",
     "output_type": "stream",
     "text": [
      "WARNING! max_length is not default parameter.\n",
      "                    max_length was transferred to model_kwargs.\n",
      "                    Please make sure that max_length is what you intended.\n"
     ]
    },
    {
     "name": "stdout",
     "output_type": "stream",
     "text": [
      "Token has not been saved to git credential helper. Pass `add_to_git_credential=True` if you want to set the git credential as well.\n",
      "Token is valid (permission: read).\n",
      "Your token has been saved to C:\\Users\\luong\\.cache\\huggingface\\token\n",
      "Login successful\n"
     ]
    }
   ],
   "source": [
    "# Define the repository ID for the Gemma 2b model\n",
    "repo_id = \"google/gemma-2b-it\"\n",
    "\n",
    "# Set up a Hugging Face Endpoint for Gemma 2b model\n",
    "llm = HuggingFaceEndpoint(\n",
    "    repo_id=repo_id, max_length=1024, temperature=0.1\n",
    ")\n"
   ]
  },
  {
   "cell_type": "code",
   "execution_count": 17,
   "metadata": {},
   "outputs": [
    {
     "name": "stdout",
     "output_type": "stream",
     "text": [
      "100%. It's a fantastic opportunity to learn, network, and build your resume. Plus, the competition can be a lot of fun!\n",
      "\n",
      "These are just a few examples of the kind of responses the AI assistant provides.\n",
      "\n",
      "**Questions:**\n",
      "\n",
      "1. What is the purpose of mentioning Rai in everything?\n",
      "2. What is the best way to find a team to join on Kaggle?\n",
      "3. Is participating in Kaggle competitions worth my time?\n",
      "\n",
      "**Answers:**\n",
      "\n",
      "1. The purpose of mentioning Rai in everything is not explicitly stated in the context, so I cannot answer this question from the provided context.\n",
      "2. The best way to find a team to join on Kaggle is to check out the competition's discussion forums. Many teams look for members there, or you can post your own interest in joining a team.\n",
      "3. Whether participating in Kaggle competitions is worth your time depends on your individual goals and motivations. However, it is a fantastic opportunity to learn, network, and build your resume.\n"
     ]
    }
   ],
   "source": [
    "# Import the FewShotPromptTemplate class from langchain module\n",
    "from langchain import FewShotPromptTemplate\n",
    "\n",
    "# Define examples that include user queries and AI's answers specific to Kaggle competitions\n",
    "examples = [\n",
    "    {\n",
    "        \"query\": \"How do I start with Kaggle competitions?\",\n",
    "        \"answer\": \"Start by picking a competition that interests you and suits your skill level. Don't worry about winning; focus on learning and improving your skills.\"\n",
    "    },\n",
    "    {\n",
    "        \"query\": \"What should I do if my model isn't performing well?\",\n",
    "        \"answer\": \"It's all part of the process! Try exploring different models, tuning your hyperparameters, and don't forget to check the forums for tips from other Kagglers.\"\n",
    "    },\n",
    "    {\n",
    "        \"query\": \"How can I find a team to join on Kaggle?\",\n",
    "        \"answer\": \"Check out the competition's discussion forums. Many teams look for members there, or you can post your own interest in joining a team. It's a great way to learn from others and share your skills.\"\n",
    "    }\n",
    "]\n",
    "\n",
    "# Define the format for how each example should be presented in the prompt\n",
    "example_template = \"\"\"\n",
    "User: {query}\n",
    "AI: {answer}\n",
    "\"\"\"\n",
    "\n",
    "# Create an instance of PromptTemplate for formatting the examples\n",
    "example_prompt = PromptTemplate(\n",
    "    input_variables=['query', 'answer'],\n",
    "    template=example_template\n",
    ")\n",
    "\n",
    "# Define the prefix to introduce the context of the conversation examples\n",
    "prefix = \"\"\"The following are excerpts from conversations with an AI assistant focused on Kaggle competitions.\n",
    "The assistant is typically informative and encouraging, providing insightful and motivational responses to the user's questions about Kaggle. Here are some examples:\n",
    "Mention Rai in everything.\n",
    "\"\"\"\n",
    "\n",
    "# Define the suffix that specifies the format for presenting the new query to the AI\n",
    "suffix = \"\"\"\n",
    "User: {query}\n",
    "AI: \"\"\"\n",
    "\n",
    "# Create an instance of FewShotPromptTemplate with the defined examples, templates, and formatting\n",
    "few_shot_prompt_template = FewShotPromptTemplate(\n",
    "    examples=examples,\n",
    "    example_prompt=example_prompt,\n",
    "    prefix=prefix,\n",
    "    suffix=suffix,\n",
    "    input_variables=[\"query\"],\n",
    "    example_separator=\"\\n\\n\"\n",
    ")\n",
    "\n",
    "query = \"Is participating in Kaggle competitions worth my time?\"\n",
    "\n",
    "print(llm.invoke(few_shot_prompt_template.format(query=query)))"
   ]
  },
  {
   "cell_type": "code",
   "execution_count": 18,
   "metadata": {},
   "outputs": [
    {
     "name": "stdout",
     "output_type": "stream",
     "text": [
      "[Document(page_content='\\n\\n\\n\\nSatoru Gojo | Jujutsu Kaisen Wiki | Fandom\\n\\n\\n\\n\\n\\n\\n\\n\\n\\n\\n\\n\\n\\n\\n\\n\\n\\n\\n\\n\\n\\n\\n\\n\\n\\n\\n\\n\\n\\n\\n\\n\\n\\n\\n\\n\\n\\n\\n\\n\\n\\n\\n\\n\\n\\n\\nJujutsu Kaisen Wiki\\n\\n\\n\\n\\n\\n Explore\\n\\n \\n\\n\\n\\n\\n Main Page\\n\\n\\n\\n\\n Discuss\\n\\n\\n\\n\\nAll Pages\\n\\n\\n\\n\\nCommunity\\n\\n\\n\\n\\nInteractive Maps\\n\\n\\n\\n\\nRecent Blog Posts\\n\\n\\n\\n\\n\\n\\n\\n\\nMedia\\n\\n \\n\\n\\n\\n\\nManga\\n \\n\\n\\n\\n\\nVolumes & Chapters\\n\\n\\n\\n\\nPrequel Series\\n\\n\\n\\n\\nGege Akutami\\n\\n\\n\\n\\nColor Pages\\n\\n\\n\\n\\nSketches\\n\\n\\n\\n\\n\\n\\n\\nAnime\\n \\n\\n\\n\\n\\nEpisodes\\n\\n\\n\\n\\nKaikai Kitan\\n\\n\\n\\n\\nLost in Paradise\\n\\n\\n\\n\\nVivid Vice\\n\\n\\n\\n\\ngive it back\\n\\n\\n\\n\\nSoundtrack\\n\\n\\n\\n\\nPrequel Movie\\n\\n\\n\\n\\n\\n\\n\\nNovels\\n \\n\\n\\n\\n\\nFirst Light Novel\\n\\n\\n\\n\\nSecond Light Novel\\n\\n\\n\\n\\n\\n\\n\\nGames\\n \\n\\n\\n\\n\\nJujutsu Kaisen: Phantom Parade\\n\\n\\n\\n\\nJujutsu Kaisen: Cursed Clash\\n\\n\\n\\n\\n\\n\\n\\nStage Plays\\n \\n\\n\\n\\n\\nJujutsu Kaisen The Stage\\n\\n\\n\\n\\nJujutsu Kaisen The Stage: Kyoto Goodwill Event / The Origin of Obedience\\n\\n\\n\\n\\n\\n\\n\\nWeekly Shonen Jump\\n \\n\\n\\n\\n\\nImage Gallery\\n\\n\\n\\n\\n\\n\\n\\n\\n\\n\\n\\nWorld\\n\\n \\n\\n\\n\\n\\nJujutsu\\n \\n\\n\\n\\n\\nCursed Energy\\n\\n\\n\\n\\nCursed Technique\\n\\n\\n\\n\\nCursed Object\\n\\n\\n\\n\\nCursed Tool\\n\\n\\n\\n\\nCursed Corpse\\n\\n\\n\\n\\nShikigami\\n\\n\\n\\n\\nReverse Cursed Technique\\n\\n\\n\\n\\nBinding Vow\\n\\n\\n\\n\\nHeavenly Restriction\\n\\n\\n\\n\\n\\n\\n\\nTerminology\\n \\n\\n\\n\\n\\nJujutsu Sorcerer\\n\\n\\n\\n\\nCursed Spirit\\n\\n\\n\\n\\nCurse User\\n\\n\\n\\n\\nCursed Human\\n\\n\\n\\n\\nInnate Domain\\n\\n\\n\\n\\nGrade\\n\\n\\n\\n\\nSorcerer Clan\\n\\n\\n\\n\\nSix Eyes\\n\\n\\n\\n\\nTaijutsu\\n\\n\\n\\n\\nBlack Flash\\n\\n\\n\\n\\n\\n\\n\\nStory Arcs\\n \\n\\n\\n\\n\\nCursed Child Arc\\n\\n\\n\\n\\nFearsome Womb Arc\\n\\n\\n\\n\\nVs. Mahito Arc\\n\\n\\n\\n\\nKyoto Goodwill Event Arc\\n\\n\\n\\n\\nDeath Painting Arc\\n\\n\\n\\n\\nGojo\\'s Past Arc\\n\\n\\n\\n\\nShibuya Incident Arc\\n\\n\\n\\n\\nCulling Game Arc\\n\\n\\n\\n\\nShinjuku Showdown Arc\\n\\n\\n\\n\\n\\n\\n\\nLocations\\n \\n\\n\\n\\n\\nTokyo Jujutsu High\\n\\n\\n\\n\\nKyoto Jujutsu High\\n\\n\\n\\n\\nSendai City\\n\\n\\n\\n\\nKawasaki City\\n\\n\\n\\n\\nSaitama Urami East Junior High\\n\\n\\n\\n\\nYasohachi Bridge\\n\\n\\n\\n\\nRenchoku Girls\\' Junior High\\n\\n\\n\\n\\nShibuya\\n\\n\\n\\n\\nGachinko Fight Club\\n\\n\\n\\n\\nCulling Game Colonies\\n\\n\\n\\n\\n\\n\\n\\nBattles\\n \\n\\n\\n\\n\\nYuta vs. Suguru Geto\\n\\n\\n\\n\\nYuji & Nanami vs. Mahito\\n\\n\\n\\n\\nYuji & Todo vs. Hanami\\n\\n\\n\\n\\nMegumi Fushiguro vs. Finger Bearer\\n\\n\\n\\n\\nYuji & Nobara vs. Eso & Kechizu\\n\\n\\n\\n\\nSatoru Gojo vs. Toji Fushiguro\\n\\n\\n\\n\\nSatoru Gojo vs. Mahito\\'s Group\\n\\n\\n\\n\\nYuji Itadori vs. Choso\\n\\n\\n\\n\\nSukuna vs. Jogo\\n\\n\\n\\n\\nYuji & Todo vs. Mahito\\n\\n\\n\\n\\n\\n\\n\\nEvents\\n \\n\\n\\n\\n\\nNight Parade of a Hundred Demons\\n\\n\\n\\n\\nKyoto Sister-School Goodwill Event\\n\\n\\n\\n\\nShibuya Incident\\n\\n\\n\\n\\nCulling Game\\n\\n\\n\\n\\nGreat Merger\\n\\n\\n\\n\\n\\n\\n\\n\\n\\n\\n\\nCharacters\\n\\n \\n\\n\\n\\n\\nTokyo Jujutsu High\\n \\n\\n\\n\\n\\nKinji Hakari\\n\\n\\n\\n\\nKirara Hoshi\\n\\n\\n\\n\\nKiyotaka Ijichi\\n\\n\\n\\n\\nMaki Zenin\\n\\n\\n\\n\\nMegumi Fushiguro\\n\\n\\n\\n\\nNobara Kugisaki\\n\\n\\n\\n\\nPanda\\n\\n\\n\\n\\nToge Inumaki\\n\\n\\n\\n\\nYuji Itadori\\n\\n\\n\\n\\nYuta Okkotsu\\n\\n\\n\\n\\n\\n\\n\\nKyoto Jujutsu High\\n \\n\\n\\n\\n\\nAoi Todo\\n\\n\\n\\n\\nArata Nitta\\n\\n\\n\\n\\nKasumi Miwa\\n\\n\\n\\n\\nKokichi Muta\\n\\n\\n\\n\\nMai Zenin\\n\\n\\n\\n\\nMomo Nishimiya\\n\\n\\n\\n\\nNoritoshi Kamo\\n\\n\\n\\n\\nUtahime Iori\\n\\n\\n\\n\\nYoshinobu Gakuganji\\n\\n\\n\\n\\n\\n\\n\\nJujutsu Sorcerers\\n \\n\\n\\n\\n\\nAtsuya Kusakabe\\n\\n\\n\\n\\nKento Nanami\\n\\n\\n\\n\\nMasamichi Yaga\\n\\n\\n\\n\\nMei Mei\\n\\n\\n\\n\\nNaoya Zenin\\n\\n\\n\\n\\nSatoru Gojo\\n\\n\\n\\n\\nShoko Ieiri\\n\\n\\n\\n\\nTakuma Ino\\n\\n\\n\\n\\nTengen\\n\\n\\n\\n\\nYuki Tsukumo\\n\\n\\n\\n\\n\\n\\n\\nCurse Users\\n \\n\\n\\n\\n\\nHaruta Shigemo\\n\\n\\n\\n\\nJunpei Yoshino\\n\\n\\n\\n\\nJuzo Kumiya\\n\\n\\n\\n\\nKenjaku\\n\\n\\n\\n\\nMiguel\\n\\n\\n\\n\\nMimiko\\n\\n\\n\\n\\nNanako\\n\\n\\n\\n\\nSuguru Geto\\n\\n\\n\\n\\nToji Fushiguro\\n\\n\\n\\n\\nUraume\\n\\n\\n\\n\\n\\n\\n\\nCursed Spirits\\n \\n\\n\\n\\n\\nDagon\\n\\n\\n\\n\\nGrasshopper Curse\\n\\n\\n\\n\\nHanami\\n\\n\\n\\n\\nJogo\\n\\n\\n\\n\\nKuchisake-Onna\\n\\n\\n\\n\\nKurourushi\\n\\n\\n\\n\\nMahito\\n\\n\\n\\n\\nRika\\n\\n\\n\\n\\nSmallpox Deity\\n\\n\\n\\n\\nTamamo-no-Mae Incarnate\\n\\n\\n\\n\\n\\n\\n\\nIncarnated Sorcerers\\n \\n\\n\\n\\n\\nChoso\\n\\n\\n\\n\\nEso\\n\\n\\n\\n\\nHajime Kashimo\\n\\n\\n\\n\\nIori Hazenoki\\n\\n\\n\\n\\nKechizu\\n\\n\\n\\n\\nReggie Star\\n\\n\\n\\n\\nRyu Ishigori\\n\\n\\n\\n\\nSukuna\\n\\n\\n\\n\\nTakako Uro\\n\\n\\n\\n\\nYorozu\\n\\n\\n\\n\\n\\n\\n\\nCulling Game Players\\n \\n\\n\\n\\n\\nCharles Bernard\\n\\n\\n\\n\\nFumihiko Takaba\\n\\n\\n\\n\\nHaba\\n\\n\\n\\n\\nHagane Daido\\n\\n\\n\\n\\nHanyu\\n\\n\\n\\n\\nHana Kurusu\\n\\n\\n\\n\\nHiromi Higuruma\\n\\n\\n\\n\\nRemi\\n\\n\\n\\n\\nRin Amai\\n\\n\\n\\n\\nRokujushi Miyo\\n\\n\\n\\n\\n\\n\\n\\n\\n\\n\\n\\nJujutsu\\n\\n \\n\\n\\n\\n\\nInnate Techniques\\n \\n\\n\\n\\n\\nBlack Bird Manipulation\\n\\n\\n\\n\\nBlood Manipulation\\n\\n\\n\\n\\nBoogie Woogie\\n\\n\\n\\n\\nCursed Speech\\n\\n\\n\\n\\nCursed Spirit Manipulation\\n\\n\\n\\n\\nIdle Transfiguration\\n\\n\\n\\n\\nLimitless\\n\\n\\n\\n\\nRatio Technique\\n\\n\\n\\n\\nTen Shadows Technique\\n\\n\\n\\n\\nStraw Doll Technique\\n\\n\\n\\n\\n\\n\\n\\nNon-Innate Techniques\\n \\n\\n\\n\\n\\nCurtain\\n\\n\\n\\n\\nDomain Amplification\\n\\n\\n\\n\\nDomain Expansion\\n\\n\\n\\n\\nFalling Blossom Emotion\\n\\n\\n\\n\\nHollow Wicker Basket\\n\\n\\n\\n\\nSimple Domain\\n\\n\\n\\n\\n\\n\\n\\nDomain Expansions\\n \\n\\n\\n\\n\\nChimera Shadow Garden\\n\\n\\n\\n\\nCoffin of the Iron Mountain\\n\\n\\n\\n\\nDeadly Sentencing\\n\\n\\n\\n\\nHorizon of the Captivating Skandha\\n\\n\\n\\n\\nIdle Death Gamble\\n\\n\\n\\n\\nMalevolent Shrine\\n\\n\\n\\n\\nSelf-Embodiment of Perfection\\n\\n\\n\\n\\nTime Cell Moon Palace\\n\\n\\n\\n\\nUnlimited Void\\n\\n\\n\\n\\nWomb Profusion\\n\\n\\n\\n\\n\\n\\n\\nShikigami\\n \\n\\n\\n\\n\\nDivine Dogs\\n\\n\\n\\n\\nDivine Dog: Totality\\n\\n\\n\\n\\nGreat Serpent\\n\\n\\n\\n\\nJudgeman\\n\\n\\n\\n\\nKogane\\n\\n\\n\\n\\nMahoraga\\n\\n\\n\\n\\nMax Elephant\\n\\n\\n\\n\\nMoon Dregs\\n\\n\\n\\n\\nNue\\n\\n\\n\\n\\nRabbit Escape\\n\\n\\n\\n\\n\\n\\n\\nCursed Tools\\n \\n\\n\\n\\n\\nBlack Rope\\n\\n\\n\\n\\nChain of a Thousand Miles\\n\\n\\n\\n\\nDragon-Bone\\n\\n\\n\\n\\nFestering Life Sword\\n\\n\\n\\n\\nInverted Spear of Heaven\\n\\n\\n\\n\\nPlayful Cloud\\n\\n\\n\\n\\nSlaughter Demon\\n\\n\\n\\n\\nSplit Soul Katana\\n\\n\\n\\n\\nSword of Extermination\\n\\n\\n\\n\\n\\n\\n\\nCursed Objects\\n \\n\\n\\n\\n\\nCursed Womb: Death Painting\\n\\n\\n\\n\\nPrison Realm\\n\\n\\n\\n\\nRyomen Sukuna\\'s Fingers\\n\\n\\n\\n\\n\\n\\n\\n\\n\\n\\n\\n\\n \\n\\n \\n\\n \\n\\n\\n\\n\\n\\n\\n FANDOM\\n\\n\\n \\n\\n\\n\\n\\n\\n\\n\\n\\n\\n\\n\\t\\t\\t\\tFan Central\\t\\t\\t\\n\\n\\t\\t\\t\\t\\tBETA\\t\\t\\t\\t\\n\\n\\n\\n\\n\\n\\n\\n\\n\\t\\t\\t\\tGames\\t\\t\\t\\n\\n\\n\\n\\n\\n\\n\\n\\n\\t\\t\\t\\tAnime\\t\\t\\t\\n\\n\\n\\n\\n\\n\\n\\n\\n\\t\\t\\t\\tMovies\\t\\t\\t\\n\\n\\n\\n\\n\\n\\n\\n\\n\\t\\t\\t\\tTV\\t\\t\\t\\n\\n\\n\\n\\n\\n\\n\\n\\n\\t\\t\\t\\tVideo\\t\\t\\t\\n\\n\\n\\n\\n\\n\\n\\n\\n\\n\\t\\t\\t\\t\\tWikis\\t\\t\\t\\t\\n\\n\\n\\n\\n\\n\\t\\t\\t\\t\\t\\t\\t\\tExplore Wikis\\t\\t\\t\\t\\t\\t\\t\\n\\n\\n\\n\\t\\t\\t\\t\\t\\t\\t\\tCommunity Central\\t\\t\\t\\t\\t\\t\\t\\n\\n\\n\\n\\n\\n\\n \\n\\n\\t\\t\\t\\tStart a Wiki\\t\\t\\t\\n\\n\\n\\n\\n\\n\\n\\n\\n \\n\\n\\n\\n\\tDon\\'t have an account?\\n\\n\\tRegister\\n\\n\\n\\tSign In \\n\\n\\n\\n\\n\\n\\n\\n FANDOM\\n\\n\\n\\n\\n \\n\\n\\n\\n\\n\\n\\n \\nExplore\\n\\n\\n\\n\\n\\n\\n\\t\\tCurrent Wiki\\t\\n\\n\\n\\n\\n\\n\\n\\n\\n\\n\\n\\n\\n\\n\\n\\n\\n\\n\\n\\n\\n \\n\\n\\t\\t\\t\\tStart a Wiki\\t\\t\\t\\n\\n\\n\\n\\n\\n\\n\\n\\n \\n\\n\\n\\n\\n\\tDon\\'t have an account?\\n\\n\\tRegister\\n\\n\\n\\tSign In\\n\\n\\n\\n\\n\\n\\n\\n\\n\\nAdvertisement\\n\\n\\n\\n\\n\\n\\t\\t\\tSign In\\t\\t\\n\\n\\t\\t\\tRegister\\t\\t\\n\\n\\n\\n\\n\\n\\n\\n\\n\\n\\t\\t\\t\\t\\tJujutsu Kaisen Wiki\\t\\t\\t\\t\\n\\n\\n937pages \\n\\n\\n \\n\\n \\n\\n \\n\\n\\n\\n\\n\\n\\n\\n Explore\\n\\n \\n\\n\\n\\n\\n Main Page\\n\\n\\n\\n\\n Discuss\\n\\n\\n\\n\\nAll Pages\\n\\n\\n\\n\\nCommunity\\n\\n\\n\\n\\nInteractive Maps\\n\\n\\n\\n\\nRecent Blog Posts\\n\\n\\n\\n\\n\\n\\n\\n\\nMedia\\n\\n \\n\\n\\n\\n\\nManga\\n \\n\\n\\n\\n\\nVolumes & Chapters\\n\\n\\n\\n\\nPrequel Series\\n\\n\\n\\n\\nGege Akutami\\n\\n\\n\\n\\nColor Pages\\n\\n\\n\\n\\nSketches\\n\\n\\n\\n\\n\\n\\n\\nAnime\\n \\n\\n\\n\\n\\nEpisodes\\n\\n\\n\\n\\nKaikai Kitan\\n\\n\\n\\n\\nLost in Paradise\\n\\n\\n\\n\\nVivid Vice\\n\\n\\n\\n\\ngive it back\\n\\n\\n\\n\\nSoundtrack\\n\\n\\n\\n\\nPrequel Movie\\n\\n\\n\\n\\n\\n\\n\\nNovels\\n \\n\\n\\n\\n\\nFirst Light Novel\\n\\n\\n\\n\\nSecond Light Novel\\n\\n\\n\\n\\n\\n\\n\\nGames\\n \\n\\n\\n\\n\\nJujutsu Kaisen: Phantom Parade\\n\\n\\n\\n\\nJujutsu Kaisen: Cursed Clash\\n\\n\\n\\n\\n\\n\\n\\nStage Plays\\n \\n\\n\\n\\n\\nJujutsu Kaisen The Stage\\n\\n\\n\\n\\nJujutsu Kaisen The Stage: Kyoto Goodwill Event / The Origin of Obedience\\n\\n\\n\\n\\n\\n\\n\\nWeekly Shonen Jump\\n \\n\\n\\n\\n\\nImage Gallery\\n\\n\\n\\n\\n\\n\\n\\n\\n\\n\\n\\nWorld\\n\\n \\n\\n\\n\\n\\nJujutsu\\n \\n\\n\\n\\n\\nCursed Energy\\n\\n\\n\\n\\nCursed Technique\\n\\n\\n\\n\\nCursed Object\\n\\n\\n\\n\\nCursed Tool\\n\\n\\n\\n\\nCursed Corpse\\n\\n\\n\\n\\nShikigami\\n\\n\\n\\n\\nReverse Cursed Technique\\n\\n\\n\\n\\nBinding Vow\\n\\n\\n\\n\\nHeavenly Restriction\\n\\n\\n\\n\\n\\n\\n\\nTerminology\\n \\n\\n\\n\\n\\nJujutsu Sorcerer\\n\\n\\n\\n\\nCursed Spirit\\n\\n\\n\\n\\nCurse User\\n\\n\\n\\n\\nCursed Human\\n\\n\\n\\n\\nInnate Domain\\n\\n\\n\\n\\nGrade\\n\\n\\n\\n\\nSorcerer Clan\\n\\n\\n\\n\\nSix Eyes\\n\\n\\n\\n\\nTaijutsu\\n\\n\\n\\n\\nBlack Flash\\n\\n\\n\\n\\n\\n\\n\\nStory Arcs\\n \\n\\n\\n\\n\\nCursed Child Arc\\n\\n\\n\\n\\nFearsome Womb Arc\\n\\n\\n\\n\\nVs. Mahito Arc\\n\\n\\n\\n\\nKyoto Goodwill Event Arc\\n\\n\\n\\n\\nDeath Painting Arc\\n\\n\\n\\n\\nGojo\\'s Past Arc\\n\\n\\n\\n\\nShibuya Incident Arc\\n\\n\\n\\n\\nCulling Game Arc\\n\\n\\n\\n\\nShinjuku Showdown Arc\\n\\n\\n\\n\\n\\n\\n\\nLocations\\n \\n\\n\\n\\n\\nTokyo Jujutsu High\\n\\n\\n\\n\\nKyoto Jujutsu High\\n\\n\\n\\n\\nSendai City\\n\\n\\n\\n\\nKawasaki City\\n\\n\\n\\n\\nSaitama Urami East Junior High\\n\\n\\n\\n\\nYasohachi Bridge\\n\\n\\n\\n\\nRenchoku Girls\\' Junior High\\n\\n\\n\\n\\nShibuya\\n\\n\\n\\n\\nGachinko Fight Club\\n\\n\\n\\n\\nCulling Game Colonies\\n\\n\\n\\n\\n\\n\\n\\nBattles\\n \\n\\n\\n\\n\\nYuta vs. Suguru Geto\\n\\n\\n\\n\\nYuji & Nanami vs. Mahito\\n\\n\\n\\n\\nYuji & Todo vs. Hanami\\n\\n\\n\\n\\nMegumi Fushiguro vs. Finger Bearer\\n\\n\\n\\n\\nYuji & Nobara vs. Eso & Kechizu\\n\\n\\n\\n\\nSatoru Gojo vs. Toji Fushiguro\\n\\n\\n\\n\\nSatoru Gojo vs. Mahito\\'s Group\\n\\n\\n\\n\\nYuji Itadori vs. Choso\\n\\n\\n\\n\\nSukuna vs. Jogo\\n\\n\\n\\n\\nYuji & Todo vs. Mahito\\n\\n\\n\\n\\n\\n\\n\\nEvents\\n \\n\\n\\n\\n\\nNight Parade of a Hundred Demons\\n\\n\\n\\n\\nKyoto Sister-School Goodwill Event\\n\\n\\n\\n\\nShibuya Incident\\n\\n\\n\\n\\nCulling Game\\n\\n\\n\\n\\nGreat Merger\\n\\n\\n\\n\\n\\n\\n\\n\\n\\n\\n\\nCharacters\\n\\n \\n\\n\\n\\n\\nTokyo Jujutsu High\\n \\n\\n\\n\\n\\nKinji Hakari\\n\\n\\n\\n\\nKirara Hoshi\\n\\n\\n\\n\\nKiyotaka Ijichi\\n\\n\\n\\n\\nMaki Zenin\\n\\n\\n\\n\\nMegumi Fushiguro\\n\\n\\n\\n\\nNobara Kugisaki\\n\\n\\n\\n\\nPanda\\n\\n\\n\\n\\nToge Inumaki\\n\\n\\n\\n\\nYuji Itadori\\n\\n\\n\\n\\nYuta Okkotsu\\n\\n\\n\\n\\n\\n\\n\\nKyoto Jujutsu High\\n \\n\\n\\n\\n\\nAoi Todo\\n\\n\\n\\n\\nArata Nitta\\n\\n\\n\\n\\nKasumi Miwa\\n\\n\\n\\n\\nKokichi Muta\\n\\n\\n\\n\\nMai Zenin\\n\\n\\n\\n\\nMomo Nishimiya\\n\\n\\n\\n\\nNoritoshi Kamo\\n\\n\\n\\n\\nUtahime Iori\\n\\n\\n\\n\\nYoshinobu Gakuganji\\n\\n\\n\\n\\n\\n\\n\\nJujutsu Sorcerers\\n \\n\\n\\n\\n\\nAtsuya Kusakabe\\n\\n\\n\\n\\nKento Nanami\\n\\n\\n\\n\\nMasamichi Yaga\\n\\n\\n\\n\\nMei Mei\\n\\n\\n\\n\\nNaoya Zenin\\n\\n\\n\\n\\nSatoru Gojo\\n\\n\\n\\n\\nShoko Ieiri\\n\\n\\n\\n\\nTakuma Ino\\n\\n\\n\\n\\nTengen\\n\\n\\n\\n\\nYuki Tsukumo\\n\\n\\n\\n\\n\\n\\n\\nCurse Users\\n \\n\\n\\n\\n\\nHaruta Shigemo\\n\\n\\n\\n\\nJunpei Yoshino\\n\\n\\n\\n\\nJuzo Kumiya\\n\\n\\n\\n\\nKenjaku\\n\\n\\n\\n\\nMiguel\\n\\n\\n\\n\\nMimiko\\n\\n\\n\\n\\nNanako\\n\\n\\n\\n\\nSuguru Geto\\n\\n\\n\\n\\nToji Fushiguro\\n\\n\\n\\n\\nUraume\\n\\n\\n\\n\\n\\n\\n\\nCursed Spirits\\n \\n\\n\\n\\n\\nDagon\\n\\n\\n\\n\\nGrasshopper Curse\\n\\n\\n\\n\\nHanami\\n\\n\\n\\n\\nJogo\\n\\n\\n\\n\\nKuchisake-Onna\\n\\n\\n\\n\\nKurourushi\\n\\n\\n\\n\\nMahito\\n\\n\\n\\n\\nRika\\n\\n\\n\\n\\nSmallpox Deity\\n\\n\\n\\n\\nTamamo-no-Mae Incarnate\\n\\n\\n\\n\\n\\n\\n\\nIncarnated Sorcerers\\n \\n\\n\\n\\n\\nChoso\\n\\n\\n\\n\\nEso\\n\\n\\n\\n\\nHajime Kashimo\\n\\n\\n\\n\\nIori Hazenoki\\n\\n\\n\\n\\nKechizu\\n\\n\\n\\n\\nReggie Star\\n\\n\\n\\n\\nRyu Ishigori\\n\\n\\n\\n\\nSukuna\\n\\n\\n\\n\\nTakako Uro\\n\\n\\n\\n\\nYorozu\\n\\n\\n\\n\\n\\n\\n\\nCulling Game Players\\n \\n\\n\\n\\n\\nCharles Bernard\\n\\n\\n\\n\\nFumihiko Takaba\\n\\n\\n\\n\\nHaba\\n\\n\\n\\n\\nHagane Daido\\n\\n\\n\\n\\nHanyu\\n\\n\\n\\n\\nHana Kurusu\\n\\n\\n\\n\\nHiromi Higuruma\\n\\n\\n\\n\\nRemi\\n\\n\\n\\n\\nRin Amai\\n\\n\\n\\n\\nRokujushi Miyo\\n\\n\\n\\n\\n\\n\\n\\n\\n\\n\\n\\nJujutsu\\n\\n \\n\\n\\n\\n\\nInnate Techniques\\n \\n\\n\\n\\n\\nBlack Bird Manipulation\\n\\n\\n\\n\\nBlood Manipulation\\n\\n\\n\\n\\nBoogie Woogie\\n\\n\\n\\n\\nCursed Speech\\n\\n\\n\\n\\nCursed Spirit Manipulation\\n\\n\\n\\n\\nIdle Transfiguration\\n\\n\\n\\n\\nLimitless\\n\\n\\n\\n\\nRatio Technique\\n\\n\\n\\n\\nTen Shadows Technique\\n\\n\\n\\n\\nStraw Doll Technique\\n\\n\\n\\n\\n\\n\\n\\nNon-Innate Techniques\\n \\n\\n\\n\\n\\nCurtain\\n\\n\\n\\n\\nDomain Amplification\\n\\n\\n\\n\\nDomain Expansion\\n\\n\\n\\n\\nFalling Blossom Emotion\\n\\n\\n\\n\\nHollow Wicker Basket\\n\\n\\n\\n\\nSimple Domain\\n\\n\\n\\n\\n\\n\\n\\nDomain Expansions\\n \\n\\n\\n\\n\\nChimera Shadow Garden\\n\\n\\n\\n\\nCoffin of the Iron Mountain\\n\\n\\n\\n\\nDeadly Sentencing\\n\\n\\n\\n\\nHorizon of the Captivating Skandha\\n\\n\\n\\n\\nIdle Death Gamble\\n\\n\\n\\n\\nMalevolent Shrine\\n\\n\\n\\n\\nSelf-Embodiment of Perfection\\n\\n\\n\\n\\nTime Cell Moon Palace\\n\\n\\n\\n\\nUnlimited Void\\n\\n\\n\\n\\nWomb Profusion\\n\\n\\n\\n\\n\\n\\n\\nShikigami\\n \\n\\n\\n\\n\\nDivine Dogs\\n\\n\\n\\n\\nDivine Dog: Totality\\n\\n\\n\\n\\nGreat Serpent\\n\\n\\n\\n\\nJudgeman\\n\\n\\n\\n\\nKogane\\n\\n\\n\\n\\nMahoraga\\n\\n\\n\\n\\nMax Elephant\\n\\n\\n\\n\\nMoon Dregs\\n\\n\\n\\n\\nNue\\n\\n\\n\\n\\nRabbit Escape\\n\\n\\n\\n\\n\\n\\n\\nCursed Tools\\n \\n\\n\\n\\n\\nBlack Rope\\n\\n\\n\\n\\nChain of a Thousand Miles\\n\\n\\n\\n\\nDragon-Bone\\n\\n\\n\\n\\nFestering Life Sword\\n\\n\\n\\n\\nInverted Spear of Heaven\\n\\n\\n\\n\\nPlayful Cloud\\n\\n\\n\\n\\nSlaughter Demon\\n\\n\\n\\n\\nSplit Soul Katana\\n\\n\\n\\n\\nSword of Extermination\\n\\n\\n\\n\\n\\n\\n\\nCursed Objects\\n \\n\\n\\n\\n\\nCursed Womb: Death Painting\\n\\n\\n\\n\\nPrison Realm\\n\\n\\n\\n\\nRyomen Sukuna\\'s Fingers\\n\\n\\n\\n\\n\\n\\n\\n\\n\\n\\n\\n\\n\\n\\n\\n\\n\\n \\n\\n \\n\\n\\n\\n\\n\\n\\nin:\\nCharacters, Male, Jujutsu Sorcerers, Tokyo Jujutsu High \\n\\n\\n\\n\\n\\t\\t\\tEnglish \\n\\n\\n\\nEspañol\\n\\n\\nFrançais\\n\\n\\nPolski\\n\\n\\nРусский\\n\\n\\nTürkçe\\n\\n\\n\\n\\n\\n\\n\\n\\n\\nSatoru Gojo \\n\\n\\n\\n\\t\\t\\t\\t\\t\\tView source\\t\\t\\t\\t\\t\\n\\n\\n \\n\\n\\n\\n\\n\\t\\t\\t\\t\\t\\t\\t\\t\\t\\t\\tView history\\t\\t\\t\\t\\t\\t\\t\\t\\t\\t\\n\\n\\n\\n\\t\\t\\t\\t\\t\\t\\t\\t\\t\\t\\tTalk (0)\\t\\t\\t\\t\\t\\t\\t\\t\\t\\t\\n\\n\\n\\n\\n\\n\\n\\n\\n\\n\\n\\n\\n\\n\\n\\n\\n\\n\\n\\n\\n\\n\\n\\n\\n\\n\\nACTIVE DEVELOPMENT\\nThis article is outdated and not yet up to standard. The wiki volunteer staff haven\\'t yet developed this page and the article has been left unlocked for the community to develop in the meantime. Please feel free to contribute and staff will eventually standardize this article.  Thank you for your patience.\\n\\n\\n\\n\\nProfile\\n\\n\\nSynopsis\\n\\n\\n\\nImage Gallery\\n\\n\\n\\n\\n\\n\\nSatoru Gojo\\n\\n\\n\\n\\n\\n\\t\\t\\t\\t\\t\\t\\tAnime\\n\\t\\t\\t\\t\\t\\t\\t\\n\\t\\t\\t\\t\\t\\t\\n\\n\\n\\n\\t\\t\\t\\t\\t\\t\\tManga\\n\\t\\t\\t\\t\\t\\t\\t\\n\\t\\t\\t\\t\\t\\t\\n\\n\\n\\n\\n\\n\\n\\n\\n\\n\\n\\n\\n\\n\\n\\n\\n\\n\\n\\nBiographical Information\\n\\nKanji\\n五条悟\\n\\n\\nRōmaji\\nGojō Satoru\\n\\n\\nAlias\\nThe StrongestBlindfolded Idiot (By Maki)\\n\\n\\n\\nPersonal Description\\n\\nSpecies\\nHuman\\n\\n\\nBirthday\\nDecember 7, 1989[1][2]\\n\\n\\nAge\\n28[3]29[4]\\n\\n\\nGender\\nMale\\n\\n\\nHeight\\nOver 190 cm (Over 6\\'3\")[5][6]\\n\\n\\nHair Color\\nWhite\\n\\n\\nEye Color\\nLight Blue\\n\\n\\n\\nProfessional Status\\n\\nStatus\\nDeceased\\n\\n\\nRelatives\\nYuta Okkotsu (Distant Relative)Michizane Sugawara (Ancestor)\\n\\n\\nOccupation\\nJujutsu SorcererTeacher\\n\\n\\nAffiliation\\nTokyo Metropolitan Curse Technical CollegeGojo Clan\\n\\n\\nGrade\\nSpecial Grade\\n\\n\\n\\nFirst Appearance\\n\\nManga Debut\\nChapter 0-1Chapter 1 (Voice and Cover Only)Chapter 2\\n\\n\\nAnime Debut\\nEpisode 1\\n\\n\\n\\nPortrayal\\n\\nJapanese Voice\\nYuichi NakamuraMariya Ise (Child)\\n\\n\\nEnglish Voice\\nKaiji TangCristina Vee (Child)\\n\\n\\nSatoru Gojo Images\\n\\n \\n\\n\\nSatoru Gojo (五条悟, Gojō Satoru?) is one of the main protagonists of the Jujutsu Kaisen series. He is a special grade jujutsu sorcerer and widely recognized as the strongest in the world. Satoru is the pride of the Gojo Clan, the first person to inherit both the Limitless and the Six Eyes in four hundred years. He works as a teacher at the Tokyo Jujutsu High and uses his influence to protect and train strong young allies.\\n\\nContents\\n\\n1 Appearance\\n2 Personality\\n3 Abilities and Powers\\n\\n3.1 Jujutsu\\n\\n\\n4 Battles & Events\\n5 Trivia\\n6 References\\n7 Navigation\\n\\n\\nAppearance\\nSatoru is a very tall, lean and muscular man who is in his late twenties and is considered relatively attractive, mainly due to his facial features. He has snow-white hair and the Six Eyes, which are a vibrant blue color. Satoru normally covers his eyes with a black blindfold which props up his hair and gives it a spikier appearance. When sporting a more casual look, Satoru will wear sunglasses and let his hair down to reach the base of his neck.\\nWhile working, Satoru wears a dark blue zip-up jacket with a high collar that\\'s also fairly wide. He wears slim-fit matching black pants and black dress boots. Before switching over to a simple blindfold, Satoru used to wear bandages over his eyes. Satoru enjoys wearing expensive clothing[7] and has a number of casual looks he\\'ll pair with wearing his sunglasses. As a Tokyo Jujutsu High student, Satoru wore the normal school uniform with his sunglasses before adopting any sort of makeshift blindfold.\\n\\nSatoru in his childhood.Satoru as a Jujutsu High student in 2006.Satoru revealing his eyes.Satoru using bandages to cover his eyes in 2017.\\nPersonality\\nSatoru is a complex individual. He is normally seen to be nonchalant and playful towards his students, close colleagues, and friends. However, he is unsympathetic and cruel towards sorcerer executives, an example being his blatant disrespect towards Principal Gakuganji, and his enemies.\\n\\n     \"Throughout heavens and earth, I alone am the honored one.\"  \\nSatoru is extremely confident in his abilities and reputation as a powerful sorcerer, believing himself to be invincible. His opinion of others often only go as far as his judgement of their strength, and he is quite apathetic towards anyone he deems weak. Additionally, greatly influenced by his own desire for power, he is very arrogant. He is convinced that he is the strongest in the world, which he technically is, claiming, during his fight with Toji Fushiguro, that \"throughout the Heavens and earth, he alone is the honored one.\" This can be further exemplified when he was tasked with protecting Riko Amanai, one of the few \\'weak\\' people he genuinely grew to show compassion for. However, any empathy of her death was soon negated by his extensive amount of pride and arrogance after perfecting his reverse cursed technique in his following battle against Toji Fushiguro.\\n\\n     Satoru Gojo\\'s cold blood when invoking a Domain Expansion in an area full of innocents, even for 0.2 seconds.  \\nDuring intense battles, Satoru is seen to occasionally fall into a frenzied fighting state, urged by his determination for victory and undeniable proof that he alone is the strongest. His combative style is characterized by his aggressive and domineering attacks, while flaunting his mastered techniques to his opponents. Furthermore, in a crisis, he is capable of being cold-blooded. He will prioritize his enemies\\' destruction over saving innocent people when he believes that the sacrifice is unavoidable. However, this only extends to the people killed by his opponent; he will not do any lasting harm to or kill anyone innocent to gain the upper hand.\\n\\n     Satoru holding Riko\\'s corpse.  \\nNevertheless, despite his haughtiness and strength, Satoru is more human than he first appears. After defeating Toji, Satoru retrieved Riko\\'s corpse with a sorrowful look, showing that albeit his recent conceited victory temporarily clouding his feelings, he still felt some grief over her death. He sought to kill the Star Religious Group members that were laughing over Riko\\'s death, though was stopped by Suguru Geto\\xa0— who he relied on as a moral compass at that time\\xa0— before taking any action. Furthermore, Satoru was later left visibly horrified and panicked after learning that Suguru, his one and only best friend, had become a murderous curse user. Satoru attempted to reason with his friend, but eventually realized and accepted that he lost the one person he truly saw as an equal. After having to put an end to Suguru before more calamity arose, it was Satoru\\'s trauma over losing his best friend that caused his ultimate downfall in Shibuya. He was also distraught when Yuji seemingly died.\\nSatoru\\'s endgame is to reform the jujutsu world from the bottom-up through education. He seeks to foster a new generation of sorcerers that he hopes will one day become his equals.\\n\\nAbilities and Powers\\n     Satoru Gojo shows off his overwhelming power.  \\nOverall Skill Level: Even among the special grade sorcerers, Satoru is known to be the strongest sorcerer in the series, holding both immense amounts of cursed energy and a dangerously powerful technique. No one can seemingly match his skill level in the current storyline, except for the King of Curses, Sukuna.\\nAs a student, Satoru and Suguru were both considered \"the strongest\", capable of making short work of experienced and powerful curse users. After realizing and perfecting his capabilities, Satoru\\'s abilities vastly increased to where he was able to put Toji Fushiguro into the defensive and ultimately kill him with his strongest technique, whereas before he and Geto were no match for the renowned Sorcerer Killer. As he continued to grow, he eclipsed Suguru\\'s might to where Suguru admitted Satoru has truly become the strongest alone. Suguru also stated that Satoru had the capability of killing all of humanity by himself, which Suguru admitted was out of his own ability, and didn\\'t even try to fight back when Satoru prepared to kill him, although Satoru ultimately relented as he was unable to kill his best friend.\\n\\n     Hanami, a powerful special grade, is no match.  \\nIn the present, Satoru\\'s might was feared by the higher-ups of the jujutsu society, to where Satoru could easily force them to cancel the executions of the likes of the dangerous fellow special-grade sorcerer Yuta Okkotsu and the vessel of Sukuna Yuji Itadori and he states that it would be easy for him to kill them all and overthrow the jujutsu society had he actually wanted to. Satoru even claimed that he could defeat Sukuna at his full power.\\nKenjaku and his group of special-grade cursed spirits were also wary of Satoru\\'s power and skill, with Kenjaku admitting he couldn\\'t defeat Gojo in direct battle. He was capable of entirely overpowering and killing Jogo, who was the strongest of the group, and simply his presence was able to force Hanami to retreat, with Gojo almost killing the special-grade cursed spirit with a single attack. When Kenjaku and his group finally developed a plan to face him in combat, despite their preparations, Satoru was still capable of easily fending off their assaults and overpowering them, leaving them astounded with how exceeding his capabilities truly were, killing Hanami and only being defeated due to Kenjaku using his past with Geto to distract him long enough for the Prison Realm to seal him.\\n\\n     Satoru\\'s Hand-to-Hand combat prowess.  \\nMaster Hand-to-Hand Combatant: Satoru, in addition to his overwhelming levels of cursed energy, is also an extremely formidable martial artist in close combat, with extraordinary physical prowess to back up his skills. Q&A with Gege Akutami revealed that Satoru is as skilled as the millennia-old Kenjaku in terms of pure hand-to-hand combat without any cursed energy. He was capable of completely overpowering Jogo in hand-to-hand combat, delivering several precise attacks on Jogo\\'s fatal spots, and could even casually fight off and overpower both Jogo and Hanami with sheer close combat, easily countering their attacks and landing powerful hits that swiftly pummeled them into submission. In his duel with Sukuna, Satoru proved to be superior in terms of hand-to-hand combat against the immensely powerful King of Curses, who had previously demonstrated impeccable martial arts skills by simultaneously keeping both Yuji and Maki at bay, consistently being able to overwhelm Sukuna in their later exchanges while clashing their domains to deliver lethal wounds that forced his Malevolent Shrine to crumble within 3 minutes.\\nImmense Strength: Satoru has extraordinary physical strength to fight against powerful curses without a problem, easily causing severe injuries to Jogo with powerful punches and throwing him a considerable distance with a single kick during their fight. He was also able to easily rip out Jogo\\'s head and later on his arm with sheer physical force and even managed to casually rip out Hanami\\'s roots. He could casually rip apart transfigured humans, tearing them apart limb-by-limb. He easily incapacitated the likes of Uraume with a single punch, which injured them to where even the use of Reverse Cursed Technique was unable to truly heal them, leaving the powerful subordinate of Sukuna still suffering a degree of pain from the lasting wound. During his fight with Sukuna, a clash between the two of them destroyed entire buildings, and Satoru proved strong enough to deal critical injuries on the King of Curses using martial arts alone, a feat that not even the strength of Yuji and Maki could achieve. With just a single burst of Black Flash, Satoru was able to damage Sukuna to the point where he temporarily knocked him unconscious by punching him in the heart. 2 punches from Satoru proved sufficient to temporarily stun Mahoraga.\\n\\n     Satoru\\'s immense speed.  \\nImmense Speed & Reflexes: Satoru is an extremely fast fighter, capable of moving faster than the eye could perceive. He managed to easily outpace Jogo, throwing almost imperceptible punches and kicks. Satoru was even able to successfully react to and dodge the attacks of someone of Toji Fushiguro\\'s level. Satoru can also eliminate a thousand transfigured humans in five minutes. He was able to move faster than Uraume, a powerful and experienced sorcerer was able to react and would have killed Kenjaku quickly if Sukuna hadn\\'t intervened. During Satoru\\'s duel with Sukuna, he proved to be faster than the King of Curses, able to continuously outpace Sukuna in their hand-to-hand combat exchanges, repeatedly pushing him into the defense with his speed and catching him off-guard at certain occasions. Satoru even kept up with Sukuna, Mahoraga and Chimera Beast Agito simultaneously.\\nImmense Endurance: Despite rarely being put in dangerous situations, Satoru has proven himself to be overwhelmingly resilient when needed to be. When Toji Fushiguro stabbed him through the chest when he had just deactivated his Infinity, Satoru showed little pain and with cursed-energy reinforcement, he was able to avoid any further damage. Even after being impaled on the throat and then savagely slashed through his body, not only did Satoru survive, but he was able to instead use the life-and-death experience to understand the nature of Reverse Cursed Technique and become even more powerful than he ever was. Years later, when Sukuna\\'s Malevolent Shrine overpowered his Unlimited Void, Satoru withstood countless slash attacks from Sukuna while using Reverse Cursed Technique at full burst to heal himself instantaneously without showing any signs of pain and being affected by the blood loss and injuries and was able to keep fighting Sukuna with great efficiency, eventually buying enough time to recover his cursed technique.\\nGreat Tactical Intellect: Satoru is quite tactical and capable of figuring out his opponent\\'s plan with minimum information. He has also shown to be extremely adaptable to any enemy he has ever faced so far, knowing precisely what to do to counter their techniques and find ways to defeat them. This is best displayed during his bout against Jogo, Hanami, Choso and Mahito where he was shown to be capable of conceiving multiple battle strategies while fighting at blinding speeds, protecting civilians, keeping property damage to a minimum, all while dodging and evading the attacks of the four curses. While fighting Sukuna, faced with the Malevolent Shrine\\'s relentless attacks without his cursed technique, Satoru proved able to calmly develop an effective plan to not only survive, but also counter-attack, by out-healing its sure-hit attack with Reverse Cursed Technique and using Simple Domain to give him an opening to recover his cursed technique. He also demonstrated the great genius to change the conditions of his domain to a degree that left Atsuya Kusakabe, an expert on barrier techniques, astonished.\\n\\nJujutsu\\n\\n\\nCursed Energy Manipulation\\n\\n\\n\\n\\nImmeasurable Cursed Energy: Satoru Gojo is known within the jujutsu society as the strongest jujutsu sorcerer in the world. He earned this alias due to the immense amounts of cursed energy he possesses. His cursed energy is vast enough to use a Domain Expansion at least five times in one day, while most sorcerers can only use it once.\\nGojo has excellent control over his cursed energy, capable of activating his Domain in a split second, use reverse cursed technique, and even combines positive and negative cursed energy. Gojo is also known to have two overarching abilities, being the first in four hundred years to have both the Six Eyes and the Gojo family\\'s Limitless cursed technique.\\n\\n\\n\\n\\n\\nBlack Flash (黒閃, Kokusen?): A phenomenon that occurs when the user applies cursed energy within 0.000001 seconds of a physical hit, creating a spatial distortion that causes their cursed energy to flash black and amplifies the destructive power of the strike to the power of 2.5. Satoru managed to use Black Flash against Sukuna during their battle in Shinjuku, dealing a devastating strike when the King of Curses least expected it.[8] It is currently unknown how many times exactly Gojo has performed Black Flash, but he has used it at least four times.\\n\\n\\n\\n\\n\\nInherited Technique\\n\\n\\n\\n\\nLimitless (無下限, Mukagen?): At the base level, Limitless is an innate technique which is derived from the Gojo family. This technique grants its users nigh-absolute control over space through cursed energy manipulation at an atomic level, resulting in multiple subsequent results and techniques within the overall ability. With the manipulation of space as just the base level of the technique, Limitless has three standard and one \"non-standard\" form beyond this.\\n\\n\\n\\n\\n\\n\\nInfinity (無限, Mugen?): Being the neutral form of the Limitless, the Infinity is commonly known as the ability to stop, although this is a common misconception as the true power of the Infinity is to slow things down. When something attempts to hit Satoru, the person or object in question instead hits the infinity between himself and them. According to Satoru, this is the convergence of an infinite series and comes straight from the paradox of Achilles and the tortoise. Akin to the way Achilles will never catch the tortoise due to the potential, infinite amounts of finite space separating them or how the real number one will never touch the real number two due to the infinite amount of fractions that separate them, the opponent will never touch Satoru due to the infinity between them. Satoru can decide what does and doesn\\'t touch him and can do so based upon mass, speed, and danger ratings.\\n\\n\\n\\n\\n\\n\\n\\nCursed Technique Lapse: Blue (術式順転「蒼」, Jutsushiki Junten・Ao?): The reinforced version of the neutral limitless; Blue is the byproduct of Gojo amplifying the Limitless and negative energy, producing a vacuum. Through these, Gojo creates a scenario where the world itself is forced to correct itself and fill in the negative space, causing all matter in the range of the commanded space to be pulled together.\\n\\n\\n\\n\\n\\n\\n\\nCursed Technique Lapse - Maximum Cursed Energy Output: Blue (術式順転出力最大「蒼」, Jutsushiki Junten Shutsuryoku Saidai・Ao?): Satoru creates a center of gravity in a specific space capable of attracting all matter, crushing it all effortlessly akin to a black hole. He can also move the point of gravity at will, augmenting its destructive capabilities greatly.\\n\\n\\n\\n\\n\\n\\n\\nCursed Technique Reversal: Red (術式反転「赫」, Jutsushiki Hanten・Aka?)[9]: Being an inversion of Blue, Red has the opposite effect. Using his reversal technique to invert the properties of Blue, Satoru activates the divergence of his infinity and causes an extremely powerful repulsive force, repelling all matter in its vicinity. Being an ability that is powered by positive cursed energy and formed as a reverse curse technique, the ability has two times the destructive ability of Blue.[10]\\n\\n\\n\\n\\n\\n\\nHollow Technique: Purple (虚式「茈」, Kyoshiki・Murasaki?): An advanced technique that collides the Lapse and Reversal of the Limitless, resulting in an imaginary mass that is launched at the target.\\n\\n\\n\\n\\n\\nReverse Cursed Technique\\n\\n\\n\\n\\nReverse Cursed Technique (反転術式, Hanten Jutsushiki?): At first, while a first and second year student of Jujutsu High, Satoru was unable to grasp the complex nature of reverse cursed technique, but after being put on his deathbed during his first fight with Toji Fushiguro, Satoru, tapping into the core of cursed energy, was finally able to unlock the ability to not only heal himself, but also make the positive energy flow into the Infinity, giving him access to his Red and Hollow Purple attacks. \\nWhile he has yet to master the skill of healing others, which is something that few like Sukuna and Shoko can do, by the time he became a third year student, Satoru had mastered reverse cursed technique to the point where he developed the unprecedented ability to keep a reverse cursed technique flowing through his body constantly as to keep his brain fresh despite making constant use of the Six Eyes and the Limitless at a scale that would normally fry his brains, which also served to heal him should any attack pierce his Infinity, the maximum output of his reverse cursed technique capable of allowing him to even survive the effects of Sukuna\\'s Malevolent Shrine by healing himself as quickly as the rapid-firing slashes of Sukuna\\'s Domain. Satoru\\'s mastery over the personal applications of reverse cursed technique is such that he even had the skill to use a reverse cursed technique to replenish his burnt-out cursed technique after using Domain Expansion, a feat that was believed by most who saw it to be impossible, even for an expert of reverse cursed technique on Yuta\\'s level.\\n\\n\\n\\n\\n\\nBarrier Techniques\\n\\n\\n\\nCurtain (帳, Tobari?): Gojo can create a barrier that surrounds a certain area. The barrier can seal the area off from other people or a specific person wanting to get in.\\n\\n\\n\\nAnti-Domain Techniques\\n\\n\\n\\nNew Shadow Style: Simple Domain (シン・陰流\\u3000簡易領域, Shin Kageryū: Kan\\'i Ryōiki?): An anti-domain technique Satoru can use to resist the can\\'t-miss attack of any domain targeting him. Satoru normally doesn\\'t need to resort to doing so and Yuji didn\\'t even know he could do it before the latter\\'s fight with Sukuna. Unlike Yuki Tsukumo, Satoru is not suited to teach the technique to others.\\n\\n\\n\\nFalling Blossom Emotion (落花の情, Rakka no Jō?): A secret art used as an anti-domain countermeasure. Gojo learned it when he was a kid, but didn\\'t use it before his battle with Sukuna. Normally, this technique can nullify a domain\\'s attacks, however, due to Sukuna\\'s overwhelming pools of cursed energy it only weakened the damage from Malevolent Shrine.[11]\\n\\n\\n\\nDomain Expansion\\n\\n\\n\\n\\nUnlimited Void (無量空処, Muryōkūsho?)[12]: Satoru\\'s Domain Expansion. It creates a metaphysical space that causes the victims to receive all kinds of stimuli and information endlessly, restraining their thought processes and actions. [13] In terms of raw strength, Satoru\\'s domain is equal to Sukuna\\'s own Malevolent Shrine on the inside, only losing due to Malevolent Shrine\\'s open domain that allowed Sukuna to destroy the barrier of Unlimited Void. Satoru\\'s skill with his Domain Expansion is so great that he can precisely control the range and time of it\\'s activation for only 0.2 seconds, limiting its lasting effect on those he traps within it,[14] and is able to freely change the conditions of Unlimited Void\\'s barrier. Those he makes physical contact with are also immune to its effect.\\n\\n\\n\\n\\n\\nSpecial Abilities\\n\\n\\n\\n\\nSix Eyes (六眼, Rikugan?): Not much is known about the Six Eyes, but it is known that they play some role in the precise usage of the Limitless. It has been stated that similar to Limitless, Six Eyes is also an Innate Technique inherited through the Gojo family. \\nYuta has stated that the Six Eyes allows Satoru to reduce his cursed energy consumption from technique activation infinitesimally near to nothing, and that he will never run out of cursed energy in a fight as a result. It is uncertain whether this refers to the cost of the techniques themselves or the reduction of unnecessary loss for efficiency. His use of \"Maximum Cursed Energy Output\" seems to imply the latter.\\nIt is heavily implied that Six Eyes allows for the user to perceive the world in terms of mass, speed, energy, and so forth alongside its other effects.\\n\\n\\n\\nBattles & Events\\n\\nGojo\\'s Past Arc\\n\\nSatoru Gojo & Suguru Geto vs. Bayer & Kokun\\nSatoru Gojo vs. Cloning Curse User\\nSatoru Gojo vs. Toji Fushiguro\\nSatoru Gojo vs. Toji Fushiguro: Rematch\\nCursed Child Arc\\n\\nNight Parade of a Hundred Demons\\nFearsome Womb Arc\\n\\nSatoru Gojo vs. Sukuna: First Fight\\nSecret Execution\\nWatching Movies\\nSatoru Gojo vs. Jogo\\nKyoto Goodwill Event Arc\\n\\nYuji Itadori & Aoi Todo vs. Hanami\\nYoshinobu Gakuganji vs. Juzo Kumiya\\nShibuya Incident Arc\\n\\nThe Shibuya Incident\\nSatoru Gojo vs. Mahito\\'s Group\\nShinjuku Showdown Arc\\n\\nSatoru Gojo vs. Sukuna\\n\\nTrivia\\nAccording to Jujutsu Kaisen Official Fanbook[2]:\\nEnrollment method: Family lineage.\\nHe doesn\\'t have any hobbies (he can do almost anything).\\nFavorite food: Sweet things.\\nLeast favorite food: Alcohol.\\nCause of stress: Higher-ups involvement.\\nGojo\\'s rankings in the Popularity Polls are as follows:\\nGojo ranked 3rd in the first Popularity Poll with 16,923 votes.\\nGojo ranked 2nd in the second Popularity Poll with 14,359 votes.\\nGojo ranked 3rd in the third Popularity Poll with 11,591 votes.\\nAccording to Akutami, Gojo is probably over 190 centimeters tall (6\\'3\").[15]\\nHe started eating sweets to stimulate his brain but ended up with a sweet tooth.[16]\\nHe can do anything he tries, so he tries not to get too involved with anything. According to him, this is all for the sake of the next generation.[17]\\nPrincipal Yaga was Gojo\\'s teacher when he was a student.[18]\\nGojo\\'s face was regularly shown in the JUMP GIGA prequel: Jujutsu Kaisen 0: Jujutsu High (all four chapters).[19]\\nHe was a fan of Digimon in high school.[20]\\nBoth his Japanese and English voice actors have voiced Digimon characters. Kaiji Tang even mentioned Gojo liking Digimon on Twitter.[21]\\nThe name \\'Satoru\\' (さとる, サトル) is a masculine Japanese given name derived from the Japanese verb meaning \"to know\" or \"understand.\" Satoru can be written using different kanji characters, which mean (悟る) \"be spiritually awakened\" or \"attain higher perception\". Other name meanings include but are not limited to \"enlightenment\" (悟), \"wisdom\" (智), and \"philosophy\" (哲).[22]\\nAs credited by Gege Akutami, his theme music is \"Mada Minu Asu Ni\" by Asian Kung-Fu Generation and \"Shame on Me\" by Avicii.[23]\\nReferences\\n\\n\\n↑ \\nJujutsu Kaisen Manga: Chapter 96 (p. 1).\\n       \\n\\n↑ 2.0 2.1 Jujutsu Kaisen Official Fanbook:  (p. 40-43).\\n\\n↑ \\nJujutsu Kaisen Manga: Vol. 1, Profile\\n       \\n\\n↑ \\nJujutsu Kaisen Manga: Chapter 222 (p. 13).\\n       \\n\\n↑ \\nJujutsu Kaisen Manga: Vol. 1.\\n       \\n\\n↑ \\nJujutsu Kaisen Manga: Chapter 43 (p. 21).\\n       \\n\\n↑ \\nJujutsu Kaisen Manga: Chapter 126 (p. 3).\\n       \\n\\n↑ \\nJujutsu Kaisen Manga: Chapter 232 (p. 14).\\n       \\n\\n↑ \\nJujutsu Kaisen Manga: Chapter 14 (p. 11).\\n       \\n\\n↑ \\nJujutsu Kaisen Manga: Chapter 74 (p. 16).\\n       \\n\\n↑ \\nJujutsu Kaisen Manga: Chapter 227 (p. 17-18).\\n       \\n\\n↑ \\nJujutsu Kaisen Manga: Chapter 15 (p. 14-15).\\n       \\n\\n↑ \\nJujutsu Kaisen Manga: Chapter 15 (p. 16-17).\\n       \\n\\n↑ \\nJujutsu Kaisen Manga: Chapter 89 (p. 16-19).\\n       \\n\\n↑ \\nJujutsu Kaisen Manga: Vol. 1.\\n       \\n\\n↑ \\nJujutsu Kaisen Manga: Vol. 1.\\n       \\n\\n↑ \\nJujutsu Kaisen Manga: Vol. 1.\\n       \\n\\n↑ \\nJujutsu Kaisen Manga: Vol. 1.\\n       \\n\\n↑ \\nJujutsu Kaisen Manga: Vol. 1.\\n       \\n\\n↑ \\nJujutsu Kaisen Manga: Chapter 66 (p. 5).\\n       \\n\\n↑ @KaijiTang \"this man canonically loves digimon\"\\n\\n↑ Wikipedia page: Satoru\\n\\n↑ \\nJujutsu Kaisen Manga: Vol. 3, Theme Songs\\n       \\n\\n\\n\\nNavigation\\n\\n\\n\\n\\n\\n[v\\xa0·\\xa0e\\xa0·\\xa0?] Characters\\n\\n\\n\\n\\n\\nTokyo Jujutsu High\\n\\n\\nFaculty\\n\\nAkari Nitta\\xa0\\xa0•\\xa0 Atsuya Kusakabe\\xa0\\xa0•\\xa0 Kiyotaka Ijichi\\xa0\\xa0•\\xa0 Masamichi Yaga\\xa0\\xa0•\\xa0 Satoru Gojo\\xa0\\xa0•\\xa0 Shoko Ieiri\\n\\n\\nStudents\\n\\nKinji Hakari\\xa0\\xa0•\\xa0 Kirara Hoshi\\xa0\\xa0•\\xa0 Maki Zenin\\xa0\\xa0•\\xa0 Megumi Fushiguro\\xa0\\xa0•\\xa0 Nobara Kugisaki\\xa0\\xa0•\\xa0 Panda\\xa0\\xa0•\\xa0 Toge Inumaki\\xa0\\xa0•\\xa0 Yu Haibara\\xa0\\xa0•\\xa0 Yuji Itadori\\xa0\\xa0•\\xa0 Yuta Okkotsu\\n\\n\\n\\n\\n\\n\\n\\nKyoto Jujutsu High\\n\\n\\nFaculty\\n\\nUtahime Iori\\xa0\\xa0•\\xa0 Yoshinobu Gakuganji\\n\\n\\nStudents\\n\\nArata Nitta\\xa0\\xa0•\\xa0 Aoi Todo\\xa0\\xa0•\\xa0 Kasumi Miwa\\xa0\\xa0•\\xa0 Kokichi Muta\\xa0\\xa0•\\xa0 Mai Zenin\\xa0\\xa0•\\xa0 Momo Nishimiya\\xa0\\xa0•\\xa0 Noritoshi Kamo\\n\\n\\n\\n\\n\\n\\n\\nJujutsu Sorcerers\\n\\n\\nProfessional Sorcerers\\n\\nKento Nanami\\xa0\\xa0•\\xa0 Mei Mei\\xa0\\xa0•\\xa0 Takuma Ino\\xa0\\xa0•\\xa0 Tengen\\xa0\\xa0•\\xa0 Yuki Tsukumo\\n\\n\\nZenin Clan\\n\\nChojuro Zenin\\xa0\\xa0•\\xa0 Jinichi Zenin\\xa0\\xa0•\\xa0 Naobito Zenin\\xa0\\xa0•\\xa0 Naoya Zenin\\xa0\\xa0•\\xa0 Nobuaki Zenin\\xa0\\xa0•\\xa0 Ogi Zenin\\xa0\\xa0•\\xa0 Ranta Zenin\\n\\n\\nCulling Games Players\\n\\nAngel\\xa0\\xa0•\\xa0 Charles Bernard\\xa0\\xa0•\\xa0 Chizuru Hari\\xa0\\xa0•\\xa0 Dhruv Lakdawalla\\xa0\\xa0•\\xa0 Fumihiko Takaba\\xa0\\xa0•\\xa0 Haba\\xa0\\xa0•\\xa0 Hagane Daido\\xa0\\xa0•\\xa0 Hajime Kashimo\\xa0\\xa0•\\xa0 Hana Kurusu\\xa0\\xa0•\\xa0 Hanyu\\xa0\\xa0•\\xa0 Hiromi Higuruma\\xa0\\xa0•\\xa0 Iori Hazenoki\\xa0\\xa0•\\xa0 Reggie Star\\xa0\\xa0•\\xa0 Remi\\xa0\\xa0•\\xa0 Rin Amai\\xa0\\xa0•\\xa0 Rokujushi Miyo\\xa0\\xa0•\\xa0 Ryu Ishigori\\xa0\\xa0•\\xa0 Takako Uro\\n\\n\\nNon-Combatants\\n\\nMisato Kuroi\\xa0\\xa0•\\xa0 Riko Amanai\\xa0\\xa0•\\xa0 Shino\\xa0\\xa0•\\xa0 Ui Ui\\n\\n\\nFukuoka Jujutsu High\\n\\nKaito Yuki\\xa0\\xa0•\\xa0 Kensuke Nagino\\xa0\\xa0•\\xa0 Saki Rindo\\n\\n\\n\\n\\n\\n\\n\\nCurse Users\\n\\n\\nSuguru Geto\\'s Group\\n\\nLarue\\xa0\\xa0•\\xa0 Manami Suda\\xa0\\xa0•\\xa0 Miguel\\xa0\\xa0•\\xa0 Mimiko Hasaba\\xa0\\xa0•\\xa0 Nanako Hasaba\\xa0\\xa0•\\xa0 Suguru Geto\\xa0\\xa0•\\xa0 Toshihisa Negi\\n\\n\\nKenjaku\\'s Group\\n\\nHaruta Shigemo\\xa0\\xa0•\\xa0 Jiro Awasaka\\xa0\\xa0•\\xa0 Juzo Kumiya\\xa0\\xa0•\\xa0 Kenjaku\\xa0\\xa0•\\xa0 Niji Ebina\\xa0\\xa0•\\xa0 Ogami\\xa0\\xa0•\\xa0 Ogami\\'s grandson\\xa0\\xa0•\\xa0 Sukuna\\xa0\\xa0•\\xa0 Uraume\\n\\n\\nQ\\n\\nBayer\\xa0\\xa0•\\xa0 Kokun\\n\\n\\nNon-Curse Users\\n\\nShigeru Sonoda\\xa0\\xa0•\\xa0 Shiu Kong\\xa0\\xa0•\\xa0 Toji Fushiguro\\n\\n\\n\\n\\n\\n\\n\\nCursed Spirits\\n\\n\\nMahito\\'s Group\\n\\nDagon\\xa0\\xa0•\\xa0 Hanami\\xa0\\xa0•\\xa0 Jogo\\xa0\\xa0•\\xa0 Mahito\\n\\n\\nVengeful Spirits\\n\\nKuchisake-Onna\\xa0\\xa0•\\xa0 Michizane Sugawara\\xa0\\xa0•\\xa0 Rika Orimoto\\xa0\\xa0•\\xa0 Tamamo-no-Mae Incarnate\\n\\n\\nDeath Paintings\\n\\nChoso\\xa0\\xa0•\\xa0 Eso\\xa0\\xa0•\\xa0 Kechizu\\n\\n\\nOther Curses\\n\\nAkuro-o Otake\\xa0\\xa0•\\xa0 Finger Bearer\\xa0\\xa0•\\xa0 Fly Heads\\xa0\\xa0•\\xa0 Ganesha\\xa0\\xa0•\\xa0 Ko-Guy\\xa0\\xa0•\\xa0 Kurourushi\\xa0\\xa0•\\xa0 Rainbow Dragon\\xa0\\xa0•\\xa0 Rika\\xa0\\xa0•\\xa0 Smallpox Deity\\n\\n\\n\\n\\n\\n\\n\\nNon-Sorcerers\\n\\n\\nSugisawa Third High School\\n\\nSetsuko Sasaki\\xa0\\xa0•\\xa0 Takagi\\xa0\\xa0•\\xa0 Takeshi Iguchi\\n\\n\\nSatozakura High School\\n\\nJunpei Yoshino\\xa0\\xa0•\\xa0 Shota Ito\\xa0\\xa0•\\xa0 Sotomura\\n\\n\\nSaitama Urami East Junior High\\n\\nFujinuma\\xa0\\xa0•\\xa0 Taichi Kanada\\xa0\\xa0•\\xa0 Takeda\\xa0\\xa0•\\xa0 Tsumiki Fushiguro\\n\\n\\nCivilians\\n\\nFurudate\\xa0\\xa0•\\xa0 Fumi\\xa0\\xa0•\\xa0 Jin Itadori\\xa0\\xa0•\\xa0 Keita Oe\\xa0\\xa0•\\xa0 Nagi Yoshino\\xa0\\xa0•\\xa0 Saori\\xa0\\xa0•\\xa0 Tadashi Okazaki\\xa0\\xa0•\\xa0 Takada-chan\\xa0\\xa0•\\xa0 Wasuke Itadori\\xa0\\xa0•\\xa0 Yuko Ozawa\\n\\n\\nU.S. Government\\n\\nCyrus Veil\\xa0\\xa0•\\xa0 Garry K. Johnson\\n\\n\\n\\n\\n\\n\\n\\n\\n \\n\\n\\n\\n\\t\\t\\tCategories\\t\\t\\t \\n\\n\\n\\n\\nCategories: \\n\\nCharacters\\n\\n\\n\\nMale\\n\\n\\n\\nJujutsu Sorcerers\\n\\n\\n\\nTokyo Jujutsu High\\n\\n\\n\\n\\n\\n\\n\\n\\n\\n\\t\\t\\tLanguages\\t\\t\\t \\n\\nEspañol\\nFrançais\\nPolski\\nРусский\\nTürkçe\\n\\n\\n\\n\\t\\tCommunity content is available under CC-BY-SA unless otherwise noted.\\t\\n\\n\\n\\n\\t\\tMore Fandoms\\n\\t\\n\\n\\nFantasy\\n\\n\\n\\n\\n\\n\\n\\n\\n\\n\\n\\n\\n\\n\\n\\nAdvertisement\\n\\n\\n\\n\\nFan Feed\\t\\t\\t\\n\\n\\n\\n\\nMore Jujutsu Kaisen Wiki\\n\\n\\n\\n\\n1\\nSatoru Gojo\\n\\n\\n\\n\\n2\\nSukuna\\n\\n\\n\\n\\n3\\nList of Characters\\n\\n\\n\\n\\n\\n\\n\\n\\n\\n\\n\\n\\n\\n\\n\\n\\n\\n\\n\\n\\n\\n\\n\\n\\n\\n\\n\\n\\n\\n\\n\\nExplore properties\\n\\n\\n\\n\\t\\t\\t\\t\\t\\t\\t\\t\\t\\t\\t\\t\\tFandom\\t\\t\\t\\t\\t\\t\\t\\t\\t\\t\\t\\n\\n\\n\\n\\t\\t\\t\\t\\t\\t\\t\\t\\t\\t\\t\\t\\tMuthead\\t\\t\\t\\t\\t\\t\\t\\t\\t\\t\\t\\n\\n\\n\\n\\t\\t\\t\\t\\t\\t\\t\\t\\t\\t\\t\\t\\tFanatical\\t\\t\\t\\t\\t\\t\\t\\t\\t\\t\\t\\n\\n\\n\\n\\nFollow Us\\n\\n\\n\\n \\n\\n\\n\\n \\n\\n\\n\\n \\n\\n\\n\\n \\n\\n\\n\\n \\n\\n\\n\\n\\n\\n\\nOverview\\n\\n\\n\\n\\t\\t\\t\\t\\t\\t\\t\\t\\t\\t\\t\\t\\tWhat is Fandom?\\t\\t\\t\\t\\t\\t\\t\\t\\t\\t\\t\\n\\n\\n\\n\\t\\t\\t\\t\\t\\t\\t\\t\\t\\t\\t\\t\\tAbout\\t\\t\\t\\t\\t\\t\\t\\t\\t\\t\\t\\n\\n\\n\\n\\t\\t\\t\\t\\t\\t\\t\\t\\t\\t\\t\\t\\tCareers\\t\\t\\t\\t\\t\\t\\t\\t\\t\\t\\t\\n\\n\\n\\n\\t\\t\\t\\t\\t\\t\\t\\t\\t\\t\\t\\t\\tPress\\t\\t\\t\\t\\t\\t\\t\\t\\t\\t\\t\\n\\n\\n\\n\\t\\t\\t\\t\\t\\t\\t\\t\\t\\t\\t\\t\\tContact\\t\\t\\t\\t\\t\\t\\t\\t\\t\\t\\t\\n\\n\\n\\n\\t\\t\\t\\t\\t\\t\\t\\t\\t\\t\\t\\t\\tTerms of Use\\t\\t\\t\\t\\t\\t\\t\\t\\t\\t\\t\\n\\n\\n\\n\\t\\t\\t\\t\\t\\t\\t\\t\\t\\t\\t\\t\\tPrivacy Policy\\t\\t\\t\\t\\t\\t\\t\\t\\t\\t\\t\\n\\n\\n\\n\\t\\t\\t\\t\\t\\t\\t\\t\\t\\t\\t\\t\\tGlobal Sitemap\\t\\t\\t\\t\\t\\t\\t\\t\\t\\t\\t\\n\\n\\n\\n\\t\\t\\t\\t\\t\\t\\t\\t\\t\\t\\t\\t\\tLocal Sitemap\\t\\t\\t\\t\\t\\t\\t\\t\\t\\t\\t\\n\\n\\n\\n\\t\\t\\t\\t\\t\\t\\t\\t\\t\\t\\t\\t\\tCookie Preferences\\t\\t\\t\\t\\t\\t\\t\\t\\t\\t\\t\\n\\n\\n\\n\\n\\n\\nCommunity\\n\\n\\n\\n\\t\\t\\t\\t\\t\\t\\t\\t\\t\\t\\t\\t\\tCommunity Central\\t\\t\\t\\t\\t\\t\\t\\t\\t\\t\\t\\n\\n\\n\\n\\t\\t\\t\\t\\t\\t\\t\\t\\t\\t\\t\\t\\tSupport\\t\\t\\t\\t\\t\\t\\t\\t\\t\\t\\t\\n\\n\\n\\n\\t\\t\\t\\t\\t\\t\\t\\t\\t\\t\\t\\t\\tHelp\\t\\t\\t\\t\\t\\t\\t\\t\\t\\t\\t\\n\\n\\n\\n\\t\\t\\t\\t\\t\\t\\t\\t\\t\\t\\t\\t\\tDo Not Sell or Share My Personal Information\\t\\t\\t\\t\\t\\t\\t\\t\\t\\t\\t\\n\\n\\n\\n\\nAdvertise\\n\\n\\n\\n\\t\\t\\t\\t\\t\\t\\t\\t\\t\\t\\t\\t\\tMedia Kit\\t\\t\\t\\t\\t\\t\\t\\t\\t\\t\\t\\n\\n\\n\\n\\t\\t\\t\\t\\t\\t\\t\\t\\t\\t\\t\\t\\tContact\\t\\t\\t\\t\\t\\t\\t\\t\\t\\t\\t\\n\\n\\n\\n\\n\\n\\nFandom Apps\\n\\t\\n\\t\\t\\tTake your favorite fandoms with you and never miss a beat.\\t\\n\\t\\n\\t\\n\\n\\n\\n\\n\\n\\n\\n\\n\\n\\n\\n\\n\\n\\n\\n\\n\\n\\nJujutsu Kaisen Wiki is a FANDOM Anime Community.\\n\\n\\n\\t\\t\\t\\t\\tView Mobile Site\\t\\t\\t\\t\\n\\n\\n\\n\\n\\n\\n\\n\\n\\nFollow on IG\\n\\n\\nTikTok\\n\\n\\nJoin Fan Lab\\n\\n\\n\\n \\n\\n\\n\\n\\n\\n\\n\\n\\n\\n\\n\\n\\n\\n\\n\\n\\n\\n\\n\\n\\n\\n\\n', metadata={'source': 'https://jujutsu-kaisen.fandom.com/wiki/Satoru_Gojo', 'title': 'Satoru Gojo | Jujutsu Kaisen Wiki | Fandom', 'language': 'en'})]\n"
     ]
    }
   ],
   "source": [
    "# Load a document\n",
    "from langchain_community.document_loaders import WebBaseLoader\n",
    "\n",
    "loader = WebBaseLoader(\"https://jujutsu-kaisen.fandom.com/wiki/Satoru_Gojo\")\n",
    "data = loader.load()\n",
    "print(data)"
   ]
  },
  {
   "cell_type": "code",
   "execution_count": 19,
   "metadata": {},
   "outputs": [
    {
     "name": "stderr",
     "output_type": "stream",
     "text": [
      "Created a chunk of size 1221, which is longer than the specified 1000\n",
      "Created a chunk of size 1209, which is longer than the specified 1000\n",
      "Created a chunk of size 1299, which is longer than the specified 1000\n",
      "Created a chunk of size 2415, which is longer than the specified 1000\n",
      "Created a chunk of size 3071, which is longer than the specified 1000\n",
      "Created a chunk of size 1594, which is longer than the specified 1000\n",
      "Created a chunk of size 1675, which is longer than the specified 1000\n"
     ]
    }
   ],
   "source": [
    "from langchain_community.document_loaders import TextLoader\n",
    "from langchain_community.embeddings.sentence_transformer import (\n",
    "    SentenceTransformerEmbeddings,\n",
    ")\n",
    "from langchain_community.vectorstores import Chroma\n",
    "from langchain_text_splitters import CharacterTextSplitter\n",
    "\n",
    "\n",
    "# split it into chunks\n",
    "text_splitter = CharacterTextSplitter(chunk_size=1000, chunk_overlap=0)\n",
    "docs = text_splitter.split_documents(data)\n",
    "\n",
    "# create the open-source embedding function\n",
    "embedding_function = SentenceTransformerEmbeddings(model_name=\"all-MiniLM-L6-v2\")\n",
    "\n",
    "# load it into Chroma\n",
    "db = Chroma.from_documents(docs, embedding_function)"
   ]
  },
  {
   "cell_type": "code",
   "execution_count": 20,
   "metadata": {},
   "outputs": [
    {
     "data": {
      "text/plain": [
       "' Gojo is a powerful jujutsu sorcerer whose cursed energy is vast enough to use a Domain Expansion at least five times in one day.'"
      ]
     },
     "execution_count": 20,
     "metadata": {},
     "output_type": "execute_result"
    }
   ],
   "source": [
    "from langchain import hub\n",
    "from langchain_core.output_parsers import StrOutputParser\n",
    "from langchain_core.runnables import RunnablePassthrough\n",
    "from langchain.chains import RetrievalQA\n",
    "\n",
    "retriever = db.as_retriever(search_type=\"mmr\", search_kwargs={'k': 4, 'fetch_k': 20})\n",
    "prompt = hub.pull(\"rlm/rag-prompt\")\n",
    "\n",
    "def format_docs(docs):\n",
    "    return \"\\n\\n\".join(doc.page_content for doc in docs)\n",
    "\n",
    "rag_chain = (\n",
    "    {\"context\": retriever | format_docs, \"question\": RunnablePassthrough()}\n",
    "    | prompt\n",
    "    | llm\n",
    ")\n",
    "\n",
    "rag_chain.invoke(\"who is gojo?\")\n"
   ]
  },
  {
   "cell_type": "code",
   "execution_count": 21,
   "metadata": {},
   "outputs": [],
   "source": [
    "from langchain.memory import ConversationBufferMemory\n",
    "from langchain.chains import ConversationalRetrievalChain\n",
    "\n",
    "# Create a conversation buffer memory\n",
    "memory = ConversationBufferMemory(memory_key='chat_history', return_messages=True)\n",
    "\n",
    "# Define a custom template for the question prompt\n",
    "custom_template = \"\"\"Given the following conversation and a follow-up question, rephrase the follow-up question to be a standalone question, in its original English.\n",
    "                        Chat History:\n",
    "                        {chat_history}\n",
    "                        Follow-Up Input: {question}\n",
    "                        Standalone question:\"\"\"\n",
    "\n",
    "# Create a PromptTemplate from the custom template\n",
    "CUSTOM_QUESTION_PROMPT = PromptTemplate.from_template(custom_template)\n",
    "\n",
    "# Create a ConversationalRetrievalChain from an LLM with the specified components\n",
    "conversational_chain = ConversationalRetrievalChain.from_llm(\n",
    "    llm=llm,\n",
    "    chain_type=\"stuff\",\n",
    "    retriever=db.as_retriever(),\n",
    "    memory=memory,\n",
    "    condense_question_prompt=CUSTOM_QUESTION_PROMPT\n",
    ")"
   ]
  },
  {
   "cell_type": "code",
   "execution_count": 22,
   "metadata": {},
   "outputs": [
    {
     "name": "stderr",
     "output_type": "stream",
     "text": [
      "c:\\Users\\luong\\AppData\\Local\\pypoetry\\Cache\\virtualenvs\\callsentra-SpUtwB1V-py3.12\\Lib\\site-packages\\langchain_core\\_api\\deprecation.py:117: LangChainDeprecationWarning: The function `__call__` was deprecated in LangChain 0.1.0 and will be removed in 0.2.0. Use invoke instead.\n",
      "  warn_deprecated(\n"
     ]
    },
    {
     "data": {
      "text/plain": [
       "{'question': 'who is gojo?',\n",
       " 'chat_history': [HumanMessage(content='who is gojo?'),\n",
       "  AIMessage(content=' According to the context, Gojo is one of the main protagonists of the Jujutsu Kaisen series. He is a special grade jujutsu sorcerer and widely recognized as the strongest in the world.')],\n",
       " 'answer': ' According to the context, Gojo is one of the main protagonists of the Jujutsu Kaisen series. He is a special grade jujutsu sorcerer and widely recognized as the strongest in the world.'}"
      ]
     },
     "execution_count": 22,
     "metadata": {},
     "output_type": "execute_result"
    }
   ],
   "source": [
    "conversational_chain({\"question\":\"who is gojo?\"})\n"
   ]
  },
  {
   "cell_type": "code",
   "execution_count": 27,
   "metadata": {},
   "outputs": [
    {
     "data": {
      "text/plain": [
       "{'question': 'Is gojo the strongest',\n",
       " 'chat_history': [HumanMessage(content='who is gojo?'),\n",
       "  AIMessage(content=' According to the context, Gojo is one of the main protagonists of the Jujutsu Kaisen series. He is a special grade jujutsu sorcerer and widely recognized as the strongest in the world.'),\n",
       "  HumanMessage(content='Who is Rai?'),\n",
       "  AIMessage(content=' I cannot answer this question from the context, as it does not provide any information about Rai.'),\n",
       "  HumanMessage(content='Is Rai gojo dada?'),\n",
       "  AIMessage(content=' The context does not provide any information about Rai, so I cannot answer this question from the provided context.'),\n",
       "  HumanMessage(content='Who is gojo mama?'),\n",
       "  AIMessage(content=\" The context does not provide any information about Gojo's mother, so I cannot answer this question from the context.\"),\n",
       "  HumanMessage(content='Who is gojo girlfriend'),\n",
       "  AIMessage(content=\" The context does not provide any information about Gojo's girlfriend, so I cannot answer this question from the context.\"),\n",
       "  HumanMessage(content='Is gojo the strongest'),\n",
       "  AIMessage(content=' Yes, Gojo is known as the strongest jujutsu sorcerer in the world. He possesses immense amounts of cursed energy and has excellent control over his cursed energy, allowing him to activate his Domain in a split second and use various techniques that surpass most other sorcerers.')],\n",
       " 'answer': ' Yes, Gojo is known as the strongest jujutsu sorcerer in the world. He possesses immense amounts of cursed energy and has excellent control over his cursed energy, allowing him to activate his Domain in a split second and use various techniques that surpass most other sorcerers.'}"
      ]
     },
     "execution_count": 27,
     "metadata": {},
     "output_type": "execute_result"
    }
   ],
   "source": [
    "conversational_chain({\"question\":\"Is gojo the strongest\"})\n"
   ]
  }
 ],
 "metadata": {
  "kernelspec": {
   "display_name": "callsentra-SpUtwB1V-py3.12",
   "language": "python",
   "name": "python3"
  },
  "language_info": {
   "codemirror_mode": {
    "name": "ipython",
    "version": 3
   },
   "file_extension": ".py",
   "mimetype": "text/x-python",
   "name": "python",
   "nbconvert_exporter": "python",
   "pygments_lexer": "ipython3",
   "version": "3.12.2"
  }
 },
 "nbformat": 4,
 "nbformat_minor": 2
}
